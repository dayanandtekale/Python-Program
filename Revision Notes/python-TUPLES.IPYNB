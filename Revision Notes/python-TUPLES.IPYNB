{
 "cells": [
  {
   "cell_type": "code",
   "execution_count": 11,
   "metadata": {},
   "outputs": [],
   "source": [
    "a =(1,)"
   ]
  },
  {
   "cell_type": "code",
   "execution_count": 12,
   "metadata": {},
   "outputs": [
    {
     "data": {
      "text/plain": [
       "tuple"
      ]
     },
     "execution_count": 12,
     "metadata": {},
     "output_type": "execute_result"
    }
   ],
   "source": [
    "type(a)"
   ]
  },
  {
   "cell_type": "code",
   "execution_count": 13,
   "metadata": {},
   "outputs": [],
   "source": [
    "a,b = 1,2"
   ]
  },
  {
   "cell_type": "code",
   "execution_count": 15,
   "metadata": {},
   "outputs": [
    {
     "data": {
      "text/plain": [
       "2"
      ]
     },
     "execution_count": 15,
     "metadata": {},
     "output_type": "execute_result"
    }
   ],
   "source": [
    "b"
   ]
  },
  {
   "cell_type": "code",
   "execution_count": 16,
   "metadata": {},
   "outputs": [
    {
     "data": {
      "text/plain": [
       "tuple"
      ]
     },
     "execution_count": 16,
     "metadata": {},
     "output_type": "execute_result"
    }
   ],
   "source": [
    "a = 1,2\n",
    "type(a)"
   ]
  },
  {
   "cell_type": "code",
   "execution_count": 1,
   "metadata": {},
   "outputs": [
    {
     "data": {
      "text/plain": [
       "list"
      ]
     },
     "execution_count": 1,
     "metadata": {},
     "output_type": "execute_result"
    }
   ],
   "source": [
    "a = [1]\n",
    "type(a)"
   ]
  },
  {
   "cell_type": "code",
   "execution_count": 2,
   "metadata": {},
   "outputs": [
    {
     "data": {
      "text/plain": [
       "int"
      ]
     },
     "execution_count": 2,
     "metadata": {},
     "output_type": "execute_result"
    }
   ],
   "source": [
    "a = (1)\n",
    "type(a)"
   ]
  },
  {
   "cell_type": "code",
   "execution_count": 3,
   "metadata": {},
   "outputs": [],
   "source": [
    "a = (1,)"
   ]
  },
  {
   "cell_type": "code",
   "execution_count": 4,
   "metadata": {},
   "outputs": [
    {
     "data": {
      "text/plain": [
       "tuple"
      ]
     },
     "execution_count": 4,
     "metadata": {},
     "output_type": "execute_result"
    }
   ],
   "source": [
    "type(a)"
   ]
  },
  {
   "cell_type": "code",
   "execution_count": null,
   "metadata": {},
   "outputs": [],
   "source": [
    "l =[1,2,3]\n",
    "\n",
    "# create a tuple of numbers\n",
    "py_tuple = (33, 55, 77)\n",
    "print(\"A tuple of numbers:\", py_tuple)\n",
    "\n",
    "# create a tuple of mixed numbers\n",
    "# such as integer, float, imaginary\n",
    "py_tuple = (33, 3.3, 3+3j)\n",
    "print(\"A tuple of mixed numbers:\", py_tuple)\n",
    "\n",
    "# create a tuple of mixed data types\n",
    "# such as numbers, strings, lists\n",
    "py_tuple = (33, \"33\", [3, 3])\n",
    "print(\"A tuple of mixed data types:\", py_tuple)\n",
    "\n",
    "# create a tuple of tuples\n",
    "# i.e. a nested tuple\n",
    "py_tuple = (('x', 'y', 'z'), ('X', 'Y', 'Z'))\n",
    "print(\"A tuple of tuples:\", py_tuple)\n",
    "print(len(py_tuple))\n",
    "py_tuple1 = ('x', 'y', 'z', ('X', 'Y', 'Z'))\n",
    "print(len(py_tuple1))"
   ]
  },
  {
   "cell_type": "code",
   "execution_count": 1,
   "metadata": {},
   "outputs": [],
   "source": [
    "# empty tuple\n",
    "tup1 = ()\n",
    "\n",
    "# a tuple with single data item\n",
    "tup2 = (99,)\n",
    "\n",
    "# tuple of strings\n",
    "tup3 = (\"hi\", \"hello\", \"bye\")\n",
    "\n",
    "# tuple of int, float, string\n",
    "tup4 = (1, 2.8, \"Hello World\")\n",
    "\n",
    "# tuple of string and list\n",
    "tup5 = (\"Book\", [1, 2, 3])\n",
    "\n",
    "# tuples inside another tuple\n",
    "# nested tuple\n",
    "tup6 = ((2, 3, 4), (1, 2, \"hi\"))"
   ]
  },
  {
   "cell_type": "code",
   "execution_count": 2,
   "metadata": {},
   "outputs": [
    {
     "data": {
      "text/plain": [
       "()"
      ]
     },
     "execution_count": 2,
     "metadata": {},
     "output_type": "execute_result"
    }
   ],
   "source": [
    "tup1"
   ]
  },
  {
   "cell_type": "code",
   "execution_count": 3,
   "metadata": {},
   "outputs": [
    {
     "data": {
      "text/plain": [
       "('Book', [1, 2, 3])"
      ]
     },
     "execution_count": 3,
     "metadata": {},
     "output_type": "execute_result"
    }
   ],
   "source": [
    "tup5"
   ]
  },
  {
   "cell_type": "code",
   "execution_count": null,
   "metadata": {},
   "outputs": [],
   "source": [
    "# create an empty tuple\n",
    "py_tuple = ()\n",
    "print(\"A blank tuple:\", py_tuple)\n",
    "\n"
   ]
  },
  {
   "cell_type": "code",
   "execution_count": 4,
   "metadata": {},
   "outputs": [
    {
     "name": "stdout",
     "output_type": "stream",
     "text": [
      "(33, 55, 77, 12)\n"
     ]
    },
    {
     "data": {
      "text/plain": [
       "tuple"
      ]
     },
     "execution_count": 4,
     "metadata": {},
     "output_type": "execute_result"
    }
   ],
   "source": [
    "# create a tuple without using round brackets\n",
    "py_tuple = 33, 55, 77, 12\n",
    "print(py_tuple)\n",
    "type(py_tuple)\n",
    "#print(\"A tuple set without parenthesis:\", py_tuple, \"type:\", type(py_tuple))"
   ]
  },
  {
   "cell_type": "code",
   "execution_count": 6,
   "metadata": {},
   "outputs": [],
   "source": [
    "a,b,c,d = 1,2,3,4"
   ]
  },
  {
   "cell_type": "code",
   "execution_count": 7,
   "metadata": {},
   "outputs": [
    {
     "data": {
      "text/plain": [
       "1"
      ]
     },
     "execution_count": 7,
     "metadata": {},
     "output_type": "execute_result"
    }
   ],
   "source": [
    "a"
   ]
  },
  {
   "cell_type": "code",
   "execution_count": 8,
   "metadata": {},
   "outputs": [
    {
     "data": {
      "text/plain": [
       "(33, 55, 77, 12)"
      ]
     },
     "execution_count": 8,
     "metadata": {},
     "output_type": "execute_result"
    }
   ],
   "source": [
    "py_tuple"
   ]
  },
  {
   "cell_type": "code",
   "execution_count": 9,
   "metadata": {},
   "outputs": [
    {
     "data": {
      "text/plain": [
       "55"
      ]
     },
     "execution_count": 9,
     "metadata": {},
     "output_type": "execute_result"
    }
   ],
   "source": [
    "py_tuple[1]"
   ]
  },
  {
   "cell_type": "code",
   "execution_count": 17,
   "metadata": {},
   "outputs": [],
   "source": [
    "l = (1,23)"
   ]
  },
  {
   "cell_type": "code",
   "execution_count": 18,
   "metadata": {},
   "outputs": [
    {
     "ename": "TypeError",
     "evalue": "'tuple' object does not support item assignment",
     "output_type": "error",
     "traceback": [
      "\u001b[1;31m---------------------------------------------------------------------------\u001b[0m",
      "\u001b[1;31mTypeError\u001b[0m                                 Traceback (most recent call last)",
      "\u001b[1;32m<ipython-input-18-87d64384b846>\u001b[0m in \u001b[0;36m<module>\u001b[1;34m\u001b[0m\n\u001b[1;32m----> 1\u001b[1;33m \u001b[0ml\u001b[0m\u001b[1;33m[\u001b[0m\u001b[1;36m1\u001b[0m\u001b[1;33m]\u001b[0m\u001b[1;33m=\u001b[0m\u001b[1;36m45\u001b[0m\u001b[1;33m\u001b[0m\u001b[1;33m\u001b[0m\u001b[0m\n\u001b[0m",
      "\u001b[1;31mTypeError\u001b[0m: 'tuple' object does not support item assignment"
     ]
    }
   ],
   "source": [
    "l[1]=45"
   ]
  },
  {
   "cell_type": "code",
   "execution_count": 12,
   "metadata": {},
   "outputs": [
    {
     "data": {
      "text/plain": [
       "[1, 45]"
      ]
     },
     "execution_count": 12,
     "metadata": {},
     "output_type": "execute_result"
    }
   ],
   "source": [
    "l"
   ]
  },
  {
   "cell_type": "code",
   "execution_count": 13,
   "metadata": {},
   "outputs": [
    {
     "ename": "TypeError",
     "evalue": "'tuple' object does not support item assignment",
     "output_type": "error",
     "traceback": [
      "\u001b[1;31m---------------------------------------------------------------------------\u001b[0m",
      "\u001b[1;31mTypeError\u001b[0m                                 Traceback (most recent call last)",
      "\u001b[1;32m<ipython-input-13-af241d16b249>\u001b[0m in \u001b[0;36m<module>\u001b[1;34m\u001b[0m\n\u001b[1;32m----> 1\u001b[1;33m \u001b[0mpy_tuple\u001b[0m\u001b[1;33m[\u001b[0m\u001b[1;36m1\u001b[0m\u001b[1;33m]\u001b[0m \u001b[1;33m=\u001b[0m \u001b[1;36m12\u001b[0m\u001b[1;33m\u001b[0m\u001b[1;33m\u001b[0m\u001b[0m\n\u001b[0m",
      "\u001b[1;31mTypeError\u001b[0m: 'tuple' object does not support item assignment"
     ]
    }
   ],
   "source": [
    "py_tuple[1] = 12"
   ]
  },
  {
   "cell_type": "code",
   "execution_count": null,
   "metadata": {},
   "outputs": [],
   "source": [
    "py_tuple"
   ]
  },
  {
   "cell_type": "code",
   "execution_count": null,
   "metadata": {},
   "outputs": [],
   "source": [
    "# creating a tuple from a list\n",
    "s = [33, 55 , 77]\n",
    "print(s)\n",
    "print(type(s))\n",
    "py_tuple = tuple(s)\n",
    "print(py_tuple)\n",
    "print(type(py_tuple))\n",
    "\n",
    "l = [1,3,6]\n",
    "py_tuple = tuple(l)\n",
    "py_tuple"
   ]
  },
  {
   "cell_type": "code",
   "execution_count": 14,
   "metadata": {},
   "outputs": [],
   "source": [
    "t = (1,2,3,4)\n",
    "type(t)\n",
    "l = list(t)\n",
    "l.append(5)\n",
    "t = tuple(l)\n"
   ]
  },
  {
   "cell_type": "code",
   "execution_count": 15,
   "metadata": {},
   "outputs": [
    {
     "data": {
      "text/plain": [
       "(1, 2, 3, 4, 5)"
      ]
     },
     "execution_count": 15,
     "metadata": {},
     "output_type": "execute_result"
    }
   ],
   "source": [
    "t"
   ]
  },
  {
   "cell_type": "code",
   "execution_count": 16,
   "metadata": {},
   "outputs": [
    {
     "name": "stdout",
     "output_type": "stream",
     "text": [
      "<class 'tuple'>\n"
     ]
    },
    {
     "data": {
      "text/plain": [
       "(33, 55, 77, 12)"
      ]
     },
     "execution_count": 16,
     "metadata": {},
     "output_type": "execute_result"
    }
   ],
   "source": [
    "# creating a tuple from a list\n",
    "a= tuple([33, 55 , 77,12])\n",
    "print(type(a))\n",
    "a"
   ]
  },
  {
   "cell_type": "code",
   "execution_count": 17,
   "metadata": {},
   "outputs": [
    {
     "data": {
      "text/plain": [
       "77"
      ]
     },
     "execution_count": 17,
     "metadata": {},
     "output_type": "execute_result"
    }
   ],
   "source": [
    "a[2]"
   ]
  },
  {
   "cell_type": "code",
   "execution_count": 18,
   "metadata": {},
   "outputs": [
    {
     "data": {
      "text/plain": [
       "tuple"
      ]
     },
     "execution_count": 18,
     "metadata": {},
     "output_type": "execute_result"
    }
   ],
   "source": [
    "# A single element surrounded by parenthesis will create a string instead of a tuple\n",
    "py_tuple = (22,)\n",
    "type(py_tuple)"
   ]
  },
  {
   "cell_type": "code",
   "execution_count": 19,
   "metadata": {},
   "outputs": [
    {
     "name": "stdout",
     "output_type": "stream",
     "text": [
      "('single',)\n"
     ]
    },
    {
     "data": {
      "text/plain": [
       "tuple"
      ]
     },
     "execution_count": 19,
     "metadata": {},
     "output_type": "execute_result"
    }
   ],
   "source": [
    "# You need to place a comma after the first element to create a tuple of size \"one\"\n",
    "py_tuple = ('single',)\n",
    "print(py_tuple)\n",
    "type(py_tuple)"
   ]
  },
  {
   "cell_type": "code",
   "execution_count": 20,
   "metadata": {},
   "outputs": [
    {
     "name": "stdout",
     "output_type": "stream",
     "text": [
      "<class 'tuple'>\n",
      "('single',)\n"
     ]
    }
   ],
   "source": [
    "# You can use a list of one element and convert it to a tuple\n",
    "py_tuple = tuple(['single'])\n",
    "print(type(py_tuple))\n",
    "print(py_tuple)"
   ]
  },
  {
   "cell_type": "code",
   "execution_count": 21,
   "metadata": {},
   "outputs": [
    {
     "data": {
      "text/plain": [
       "('single',)"
      ]
     },
     "execution_count": 21,
     "metadata": {},
     "output_type": "execute_result"
    }
   ],
   "source": [
    "# You can use a set of one element and convert it to a tuple\n",
    "py_tuple = tuple({'single'})\n",
    "type(py_tuple)\n",
    "py_tuple"
   ]
  },
  {
   "cell_type": "code",
   "execution_count": null,
   "metadata": {},
   "outputs": [],
   "source": [
    "# accessing first element\n",
    "\n",
    "# Via Indexing\n",
    "# The simplest is the direct access method where you use the index operator\n",
    "# [] to pick an item from the tuple. \n",
    "# You can start indexing from the 0th position."
   ]
  },
  {
   "cell_type": "code",
   "execution_count": 22,
   "metadata": {},
   "outputs": [
    {
     "name": "stdout",
     "output_type": "stream",
     "text": [
      "The tuple: ('a', 'e', 'i', 'o', 'u') Length: 5\n",
      "OP(vowel_tuple[0]): a\n",
      "OP(vowel_tuple[length-1]): o\n"
     ]
    },
    {
     "data": {
      "text/plain": [
       "'u'"
      ]
     },
     "execution_count": 22,
     "metadata": {},
     "output_type": "execute_result"
    }
   ],
   "source": [
    "vowel_tuple = ('a','e','i','o','u')\n",
    "\n",
    "print(\"The tuple:\", vowel_tuple, \"Length:\", len(vowel_tuple))\n",
    "\n",
    "# Indexing the first element\n",
    "print(\"OP(vowel_tuple[0]):\", vowel_tuple[0])\n",
    "\n",
    "# Indexing the last element\n",
    "print(\"OP(vowel_tuple[length-1]):\", vowel_tuple[len(vowel_tuple) - 2])\n",
    "vowel_tuple[-1]"
   ]
  },
  {
   "cell_type": "code",
   "execution_count": 23,
   "metadata": {},
   "outputs": [
    {
     "ename": "IndexError",
     "evalue": "tuple index out of range",
     "output_type": "error",
     "traceback": [
      "\u001b[1;31m---------------------------------------------------------------------------\u001b[0m",
      "\u001b[1;31mIndexError\u001b[0m                                Traceback (most recent call last)",
      "\u001b[1;32m<ipython-input-23-4f4d879f0e46>\u001b[0m in \u001b[0;36m<module>\u001b[1;34m\u001b[0m\n\u001b[1;32m----> 1\u001b[1;33m \u001b[0mprint\u001b[0m\u001b[1;33m(\u001b[0m\u001b[1;34m\"OP(vowel_tuple[length+1]):\"\u001b[0m\u001b[1;33m,\u001b[0m \u001b[0mvowel_tuple\u001b[0m\u001b[1;33m[\u001b[0m\u001b[0mlen\u001b[0m\u001b[1;33m(\u001b[0m\u001b[0mvowel_tuple\u001b[0m\u001b[1;33m)\u001b[0m \u001b[1;33m+\u001b[0m\u001b[1;36m1\u001b[0m\u001b[1;33m]\u001b[0m\u001b[1;33m)\u001b[0m\u001b[1;33m\u001b[0m\u001b[1;33m\u001b[0m\u001b[0m\n\u001b[0m",
      "\u001b[1;31mIndexError\u001b[0m: tuple index out of range"
     ]
    }
   ],
   "source": [
    "print(\"OP(vowel_tuple[length+1]):\", vowel_tuple[len(vowel_tuple) +1])"
   ]
  },
  {
   "cell_type": "code",
   "execution_count": 24,
   "metadata": {},
   "outputs": [
    {
     "name": "stdout",
     "output_type": "stream",
     "text": [
      "u\n"
     ]
    }
   ],
   "source": [
    "print(vowel_tuple[len(vowel_tuple)-1])"
   ]
  },
  {
   "cell_type": "code",
   "execution_count": 26,
   "metadata": {},
   "outputs": [
    {
     "name": "stdout",
     "output_type": "stream",
     "text": [
      "The index you are using is not available\n"
     ]
    }
   ],
   "source": [
    "# Indexing a non-existent member\n",
    "# will raise the IndexError\n",
    "try:\n",
    "    print(vowel_tuple[len(vowel_tuple)+1])\n",
    "except Exception as ex:\n",
    "    #print(\"OP(vowel_tuple[length+1]) Error:\", ex)\n",
    "    print('The index you are using is not available')"
   ]
  },
  {
   "cell_type": "code",
   "execution_count": 27,
   "metadata": {},
   "outputs": [
    {
     "ename": "TypeError",
     "evalue": "tuple indices must be integers or slices, not float",
     "output_type": "error",
     "traceback": [
      "\u001b[1;31m---------------------------------------------------------------------------\u001b[0m",
      "\u001b[1;31mTypeError\u001b[0m                                 Traceback (most recent call last)",
      "\u001b[1;32m<ipython-input-27-63a3f9c9788a>\u001b[0m in \u001b[0;36m<module>\u001b[1;34m\u001b[0m\n\u001b[1;32m----> 1\u001b[1;33m \u001b[0mvowel_tuple\u001b[0m\u001b[1;33m[\u001b[0m\u001b[1;36m0.0\u001b[0m\u001b[1;33m]\u001b[0m\u001b[1;33m\u001b[0m\u001b[1;33m\u001b[0m\u001b[0m\n\u001b[0m",
      "\u001b[1;31mTypeError\u001b[0m: tuple indices must be integers or slices, not float"
     ]
    }
   ],
   "source": [
    "vowel_tuple[0.0]"
   ]
  },
  {
   "cell_type": "code",
   "execution_count": 28,
   "metadata": {
    "scrolled": true
   },
   "outputs": [
    {
     "name": "stdout",
     "output_type": "stream",
     "text": [
      "('sun', 'mon', 'wed')\n",
      "OP(t_o_t[0][1]): (('jan', 'feb', 'mar'), ('sun', 'mon', 'wed'))\n",
      "OP(t_o_t[1][2]): wed\n"
     ]
    }
   ],
   "source": [
    "# Indexing in a tuple of tuples\n",
    "t_o_t = (('jan', 'feb', 'mar'), ('sun', 'mon', 'wed'),(2,4,8,9))\n",
    "print(t_o_t[1])\n",
    "\n",
    "# Accessing elements from the first  tuple\n",
    "print(\"OP(t_o_t[0][1]):\", t_o_t[0:2])\n",
    "\n",
    "# Accessing elements from the second sub tuple\n",
    "print(\"OP(t_o_t[1][2]):\", t_o_t[1][2])"
   ]
  },
  {
   "cell_type": "code",
   "execution_count": null,
   "metadata": {},
   "outputs": [],
   "source": [
    "# Via Reverse Indexing\n",
    "\n",
    "# The reverse indexing works in the following manner.\n",
    "    # The index -1 represents the last item.\n",
    "    # An index with value -2 will refer to the second item from the rear end."
   ]
  },
  {
   "cell_type": "code",
   "execution_count": 29,
   "metadata": {},
   "outputs": [
    {
     "name": "stdout",
     "output_type": "stream",
     "text": [
      "u\n",
      "o\n",
      "a\n"
     ]
    }
   ],
   "source": [
    "vowels = ('a','e','i','o','u')\n",
    "vowels\n",
    "\n",
    "print(vowels[-1])\n",
    "print(vowels[-2])\n",
    "print(vowels[-5])"
   ]
  },
  {
   "cell_type": "code",
   "execution_count": null,
   "metadata": {},
   "outputs": [],
   "source": [
    "# Via Slicing Operator"
   ]
  },
  {
   "cell_type": "code",
   "execution_count": null,
   "metadata": {},
   "outputs": [],
   "source": [
    "# If you need to access not one but more than one element from a tuple, \n",
    "# then Python’s slicing operator can come to use.\n",
    "\n",
    "# The single colon, i.e., a “:” represents the slicing operator in Python."
   ]
  },
  {
   "cell_type": "code",
   "execution_count": 30,
   "metadata": {},
   "outputs": [
    {
     "data": {
      "text/plain": [
       "('mon', 'tue', 'wed', 'thu', 'fri', 'sat', 'sun')"
      ]
     },
     "execution_count": 30,
     "metadata": {},
     "output_type": "execute_result"
    }
   ],
   "source": [
    "weekdays = ('mon', 'tue', 'wed' ,'thu', 'fri', 'sat', 'sun')\n",
    "weekdays"
   ]
  },
  {
   "cell_type": "code",
   "execution_count": 50,
   "metadata": {},
   "outputs": [
    {
     "data": {
      "text/plain": [
       "('sun', 'mon')"
      ]
     },
     "execution_count": 50,
     "metadata": {},
     "output_type": "execute_result"
    }
   ],
   "source": [
    "weekdays[::-6]"
   ]
  },
  {
   "cell_type": "code",
   "execution_count": 48,
   "metadata": {},
   "outputs": [
    {
     "data": {
      "text/plain": [
       "('sat', 'fri')"
      ]
     },
     "execution_count": 48,
     "metadata": {},
     "output_type": "execute_result"
    }
   ],
   "source": [
    "weekdays[-2:-4:-1]"
   ]
  },
  {
   "cell_type": "code",
   "execution_count": null,
   "metadata": {},
   "outputs": [],
   "source": [
    "# accessing elements leaving the first one\n",
    "weekdays[1:]"
   ]
  },
  {
   "cell_type": "code",
   "execution_count": null,
   "metadata": {},
   "outputs": [],
   "source": [
    "# accessing elements between the first and fifth positions\n",
    "# excluding the ones at the first and fifth position\n",
    "weekdays[1:5]"
   ]
  },
  {
   "cell_type": "code",
   "execution_count": null,
   "metadata": {},
   "outputs": [],
   "source": [
    "# accessing elements after the fifth position\n",
    "weekdays[5:]"
   ]
  },
  {
   "cell_type": "code",
   "execution_count": null,
   "metadata": {},
   "outputs": [],
   "source": [
    "weekdays"
   ]
  },
  {
   "cell_type": "code",
   "execution_count": null,
   "metadata": {},
   "outputs": [],
   "source": [
    "# accessing elements that appears after\n",
    "# counting five from the rear end\n",
    "weekdays[1:-5]"
   ]
  },
  {
   "cell_type": "code",
   "execution_count": null,
   "metadata": {},
   "outputs": [],
   "source": [
    "weekdays[::-6]"
   ]
  },
  {
   "cell_type": "code",
   "execution_count": null,
   "metadata": {},
   "outputs": [],
   "source": [
    "# accessing five elements from the rear\n",
    "weekdays[-5:-2]"
   ]
  },
  {
   "cell_type": "code",
   "execution_count": null,
   "metadata": {},
   "outputs": [],
   "source": [
    "# accessing elements from the start to end\n",
    "weekdays[:]"
   ]
  },
  {
   "cell_type": "code",
   "execution_count": null,
   "metadata": {},
   "outputs": [],
   "source": [
    "# Similar to list and strings we can use negative indexes to access the tuple \n",
    "# elements from the end.\n",
    "# -1 to access last element, -2 to access second last and so on.\n",
    "my_data = (1, 2, \"Kevin\", 8.9)\n",
    "\n",
    "# accessing last element\n",
    "# prints 8.9\n",
    "print(my_data[-1])\n",
    "\n",
    "# prints 2\n",
    "print(my_data[-3])"
   ]
  },
  {
   "cell_type": "code",
   "execution_count": 51,
   "metadata": {},
   "outputs": [
    {
     "name": "stdout",
     "output_type": "stream",
     "text": [
      "v\n",
      "22\n"
     ]
    }
   ],
   "source": [
    "# Accessing elements from nested tuples\n",
    "my_data = (1, \"Steve\", (11, 22, 33))\n",
    "\n",
    "\n",
    "print(my_data[1][3])\n",
    "\n",
    "print(my_data[2][1])"
   ]
  },
  {
   "cell_type": "code",
   "execution_count": 54,
   "metadata": {},
   "outputs": [
    {
     "name": "stdout",
     "output_type": "stream",
     "text": [
      "(1, [9, 8, 7], 'World')\n",
      "[9, 8, 7]\n"
     ]
    },
    {
     "data": {
      "text/plain": [
       "(1, [101, 8, 7], 'World')"
      ]
     },
     "execution_count": 54,
     "metadata": {},
     "output_type": "execute_result"
    }
   ],
   "source": [
    "# changing the tuple element\n",
    "my_data = (1, [9, 8, 7], \"World\")\n",
    "#my_data = (1, (9, 8, 7), \"World\")\n",
    "print(my_data)\n",
    "\n",
    "\n",
    "print(my_data[1])\n",
    "my_data[1][0] = 101\n",
    "\n",
    "my_data"
   ]
  },
  {
   "cell_type": "code",
   "execution_count": 55,
   "metadata": {},
   "outputs": [
    {
     "name": "stdout",
     "output_type": "stream",
     "text": [
      "(1, [9, 8, 7], 'BLUE', 'NEW')\n",
      "(1, [9, 10, 7], 'Happy')\n"
     ]
    }
   ],
   "source": [
    "# changing the tuple element, which are mutable\n",
    "world = \"NEW\"\n",
    "my_data = (1, [9, 8, 7], \"BLUE\",world)\n",
    "print(my_data)\n",
    "\n",
    "# changing the element of the list\n",
    "# this is valid because list is mutable\n",
    "world= \"Happy\"\n",
    "#my_data[2] = \"RED\"\n",
    "#my_data[0]= 10\n",
    "my_data = (1, [9, 8, 7], world)\n",
    "my_data[1][1]=10\n",
    "print(my_data)"
   ]
  },
  {
   "cell_type": "code",
   "execution_count": 59,
   "metadata": {},
   "outputs": [
    {
     "name": "stdout",
     "output_type": "stream",
     "text": [
      "(1, 2, 3, 4, 5, 6, 'ABC')\n"
     ]
    }
   ],
   "source": [
    "# deleting tuple elements\n",
    "my_data = (1, 2, 3, 4, 5, 6,\"ABC\")\n",
    "print(my_data)\n",
    "\n",
    "# not possible\n",
    "# error due to immutablity\n",
    "del my_data[2]\n",
    "\n",
    "# deleting entire tuple is possible\n",
    "#del my_data"
   ]
  },
  {
   "cell_type": "code",
   "execution_count": 60,
   "metadata": {},
   "outputs": [
    {
     "data": {
      "text/plain": [
       "(1, 2, 3, 4, 5, 6, 'ABC')"
      ]
     },
     "execution_count": 60,
     "metadata": {},
     "output_type": "execute_result"
    }
   ],
   "source": [
    "my_data"
   ]
  },
  {
   "cell_type": "code",
   "execution_count": null,
   "metadata": {},
   "outputs": [],
   "source": [
    "# Slicing operation in tuples\n",
    "my_data = (11, 22, 33, 44, 55, 66, 77, 88, 99)\n",
    "print(my_data)\n",
    "\n",
    "# elements from 3rd to 5th\n",
    "# prints (33, 44, 55)\n",
    "print(my_data[2:5])\n",
    "\n",
    "# elements from start to 4th\n",
    "# prints (11, 22, 33, 44)\n",
    "print(my_data[:4])\n",
    "\n",
    "# elements from 5th to end\n",
    "# prints (55, 66, 77, 88, 99)\n",
    "print(my_data[4:])\n",
    "\n",
    "# elements from 5th to second last\n",
    "# prints (55, 66, 77, 88)\n",
    "print(my_data[4:-1])\n",
    "\n",
    "# displaying entire tuple\n",
    "print(my_data[:])"
   ]
  },
  {
   "cell_type": "code",
   "execution_count": null,
   "metadata": {},
   "outputs": [],
   "source": [
    "# Membership Test in Tuples\n",
    "# in: Checks whether an element exists in the specified tuple.\n",
    "# not in: Checks whether an element does not exist in the specified tuple.\n",
    "my_data = (11, 22, 33, 44, 55, 66, 77, 88, 99)\n",
    "print(my_data)\n",
    "\n",
    "# true\n",
    "print(22 in my_data)\n",
    "\n",
    "# false\n",
    "print(2 in my_data)\n",
    "\n",
    "# false\n",
    "print(88 not in my_data)\n",
    "\n",
    "# true\n",
    "print(101 not in my_data)"
   ]
  },
  {
   "cell_type": "code",
   "execution_count": 61,
   "metadata": {},
   "outputs": [
    {
     "name": "stdout",
     "output_type": "stream",
     "text": [
      "Apple\n",
      "Orange\n",
      "Grapes\n",
      "Banana\n"
     ]
    }
   ],
   "source": [
    "# Iterating a tuple\n",
    "# tuple of fruits\n",
    "my_tuple = (\"Apple\", \"Orange\", \"Grapes\", \"Banana\")\n",
    "\n",
    "# iterating over tuple elements\n",
    "for fruit in my_tuple:\n",
    "     print(fruit)"
   ]
  },
  {
   "cell_type": "code",
   "execution_count": 62,
   "metadata": {},
   "outputs": [
    {
     "name": "stdout",
     "output_type": "stream",
     "text": [
      "3\n",
      "1\n"
     ]
    }
   ],
   "source": [
    "# tuple methods\n",
    "my_tuple = ('a','p','p','l','e','p')\n",
    "\n",
    "# Count\n",
    "print(my_tuple.count('p'))\n",
    "\n",
    "# Index\n",
    "print(my_tuple.index('p'))"
   ]
  },
  {
   "cell_type": "code",
   "execution_count": 65,
   "metadata": {},
   "outputs": [],
   "source": [
    "# How Can You Delete A Tuple\n",
    "py_tuple = (['p','a'], 'y', 't', 'h', 'o', 'n')\n",
    "#a =list (py_tuple)\n",
    "#print(a)\n",
    "\n",
    "del py_tuple[0][1]"
   ]
  },
  {
   "cell_type": "code",
   "execution_count": 66,
   "metadata": {},
   "outputs": [
    {
     "data": {
      "text/plain": [
       "(['p', 'a'], 'y', 't', 'h', 'o', 'n')"
      ]
     },
     "execution_count": 66,
     "metadata": {},
     "output_type": "execute_result"
    }
   ],
   "source": [
    "py_tuple"
   ]
  },
  {
   "cell_type": "code",
   "execution_count": 64,
   "metadata": {},
   "outputs": [
    {
     "data": {
      "text/plain": [
       "(['p'], 'y', 't', 'h', 'o', 'n')"
      ]
     },
     "execution_count": 64,
     "metadata": {},
     "output_type": "execute_result"
    }
   ],
   "source": [
    "py_tuple"
   ]
  },
  {
   "cell_type": "code",
   "execution_count": null,
   "metadata": {},
   "outputs": [],
   "source": [
    "del py_tuple[0]"
   ]
  },
  {
   "cell_type": "code",
   "execution_count": null,
   "metadata": {},
   "outputs": [],
   "source": [
    "py_tuple = ('p', 'y', 't', 'h', 'o', 'n')\n",
    "\n",
    "# you can't delete a particular item from a tuple\n",
    "try:\n",
    "    del py_tuple[0]\n",
    "except Exception as abc:\n",
    "    print(abc)"
   ]
  },
  {
   "cell_type": "code",
   "execution_count": null,
   "metadata": {},
   "outputs": [],
   "source": [
    "# but you can delete a whole tuple\n",
    "del py_tuple\n",
    "try:\n",
    "    print(py_tuple)\n",
    "except Exception as ex:\n",
    "    print(\"print(py_tuple) => Error:\", ex)"
   ]
  },
  {
   "cell_type": "code",
   "execution_count": null,
   "metadata": {},
   "outputs": [],
   "source": [
    "l = [1,(2,3),4]\n",
    "l[1]"
   ]
  },
  {
   "cell_type": "code",
   "execution_count": null,
   "metadata": {},
   "outputs": [],
   "source": [
    "l[1]=8\n",
    "l"
   ]
  },
  {
   "cell_type": "code",
   "execution_count": null,
   "metadata": {},
   "outputs": [],
   "source": [
    "l[1][0]= 2"
   ]
  },
  {
   "cell_type": "code",
   "execution_count": null,
   "metadata": {},
   "outputs": [],
   "source": []
  }
 ],
 "metadata": {
  "kernelspec": {
   "display_name": "Python 3",
   "language": "python",
   "name": "python3"
  },
  "language_info": {
   "codemirror_mode": {
    "name": "ipython",
    "version": 3
   },
   "file_extension": ".py",
   "mimetype": "text/x-python",
   "name": "python",
   "nbconvert_exporter": "python",
   "pygments_lexer": "ipython3",
   "version": "3.7.4"
  }
 },
 "nbformat": 4,
 "nbformat_minor": 2
}
